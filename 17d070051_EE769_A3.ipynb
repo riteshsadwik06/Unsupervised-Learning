{
  "nbformat": 4,
  "nbformat_minor": 0,
  "metadata": {
    "colab": {
      "name": "17d070051_EE769_A3.ipynb",
      "provenance": [],
      "collapsed_sections": []
    },
    "kernelspec": {
      "display_name": "Python 3",
      "name": "python3"
    },
    "language_info": {
      "name": "python"
    }
  },
  "cells": [
    {
      "cell_type": "code",
      "metadata": {
        "id": "_5cwDF84DYfZ"
      },
      "source": [
        "import numpy as np\n",
        "import pandas as pd\n",
        "import matplotlib\n",
        "import seaborn as sns\n",
        "import plotly.express as px\n",
        "from sklearn import datasets, linear_model, preprocessing\n",
        "from sklearn.metrics import mean_squared_error, r2_score\n",
        "from sklearn.model_selection import train_test_split\n",
        "from sklearn.cluster import KMeans,DBSCAN\n",
        "from sklearn.manifold import TSNE\n",
        "from sklearn.preprocessing import StandardScaler\n",
        "import matplotlib.pyplot as plt"
      ],
      "execution_count": 95,
      "outputs": []
    },
    {
      "cell_type": "code",
      "metadata": {
        "id": "LGgLl8FTDp7J"
      },
      "source": [
        "pca=pd.read_csv(\"/content/drive/MyDrive/769/a3/DataPCA.csv\")\n",
        "kpca = pd.read_csv(\"/content/drive/MyDrive/769/a3/DataKPCA.csv\")\n",
        "clustering = pd.read_csv(\"/content/drive/MyDrive/769/a3/DataClustering.csv\")"
      ],
      "execution_count": 96,
      "outputs": []
    },
    {
      "cell_type": "markdown",
      "metadata": {
        "id": "yRNKJNz0nNzK"
      },
      "source": [
        "**1. Clustering:**"
      ]
    },
    {
      "cell_type": "code",
      "metadata": {
        "id": "JptXt-AzEzv2",
        "colab": {
          "base_uri": "https://localhost:8080/",
          "height": 221
        },
        "outputId": "e1d193d7-7925-4f94-aaa4-5ba62aa2f0b6"
      },
      "source": [
        "#1a. Visualize and pre-process the data as appropriate from the file DataClustering.csv.\n",
        "print(\"Rows, columns: \" + str(clustering.shape))\n",
        "clustering.head()"
      ],
      "execution_count": 97,
      "outputs": [
        {
          "output_type": "stream",
          "text": [
            "Rows, columns: (351, 4)\n"
          ],
          "name": "stdout"
        },
        {
          "output_type": "execute_result",
          "data": {
            "text/html": [
              "<div>\n",
              "<style scoped>\n",
              "    .dataframe tbody tr th:only-of-type {\n",
              "        vertical-align: middle;\n",
              "    }\n",
              "\n",
              "    .dataframe tbody tr th {\n",
              "        vertical-align: top;\n",
              "    }\n",
              "\n",
              "    .dataframe thead th {\n",
              "        text-align: right;\n",
              "    }\n",
              "</style>\n",
              "<table border=\"1\" class=\"dataframe\">\n",
              "  <thead>\n",
              "    <tr style=\"text-align: right;\">\n",
              "      <th></th>\n",
              "      <th>x1</th>\n",
              "      <th>x2</th>\n",
              "      <th>x3</th>\n",
              "      <th>x4</th>\n",
              "    </tr>\n",
              "  </thead>\n",
              "  <tbody>\n",
              "    <tr>\n",
              "      <th>0</th>\n",
              "      <td>0.832354</td>\n",
              "      <td>1.389428</td>\n",
              "      <td>0.962226</td>\n",
              "      <td>0.993671</td>\n",
              "    </tr>\n",
              "    <tr>\n",
              "      <th>1</th>\n",
              "      <td>1.256087</td>\n",
              "      <td>1.500487</td>\n",
              "      <td>0.904118</td>\n",
              "      <td>0.738035</td>\n",
              "    </tr>\n",
              "    <tr>\n",
              "      <th>2</th>\n",
              "      <td>0.976953</td>\n",
              "      <td>1.058524</td>\n",
              "      <td>1.217530</td>\n",
              "      <td>1.357238</td>\n",
              "    </tr>\n",
              "    <tr>\n",
              "      <th>3</th>\n",
              "      <td>1.014365</td>\n",
              "      <td>1.122684</td>\n",
              "      <td>1.195847</td>\n",
              "      <td>0.984144</td>\n",
              "    </tr>\n",
              "    <tr>\n",
              "      <th>4</th>\n",
              "      <td>1.041386</td>\n",
              "      <td>1.219014</td>\n",
              "      <td>0.864819</td>\n",
              "      <td>1.720825</td>\n",
              "    </tr>\n",
              "  </tbody>\n",
              "</table>\n",
              "</div>"
            ],
            "text/plain": [
              "         x1        x2        x3        x4\n",
              "0  0.832354  1.389428  0.962226  0.993671\n",
              "1  1.256087  1.500487  0.904118  0.738035\n",
              "2  0.976953  1.058524  1.217530  1.357238\n",
              "3  1.014365  1.122684  1.195847  0.984144\n",
              "4  1.041386  1.219014  0.864819  1.720825"
            ]
          },
          "metadata": {
            "tags": []
          },
          "execution_count": 97
        }
      ]
    },
    {
      "cell_type": "code",
      "metadata": {
        "id": "YMvbExVOFHyz",
        "colab": {
          "base_uri": "https://localhost:8080/"
        },
        "outputId": "ea701615-fcd9-4d15-d01c-3717c9d3dd7c"
      },
      "source": [
        "print(clustering.isna().sum())\n",
        "print(pca.isna().sum())\n",
        "print(kpca.isna().sum())"
      ],
      "execution_count": 98,
      "outputs": [
        {
          "output_type": "stream",
          "text": [
            "x1    0\n",
            "x2    0\n",
            "x3    0\n",
            "x4    0\n",
            "dtype: int64\n",
            "x1    0\n",
            "x2    0\n",
            "x3    0\n",
            "x4    0\n",
            "x5    0\n",
            "x6    0\n",
            "x7    0\n",
            "dtype: int64\n",
            "x1    0\n",
            "x2    0\n",
            "x3    0\n",
            "x4    0\n",
            "x5    0\n",
            "x6    0\n",
            "x7    0\n",
            "dtype: int64\n"
          ],
          "name": "stdout"
        }
      ]
    },
    {
      "cell_type": "code",
      "metadata": {
        "id": "z-xiB-nQFfax",
        "colab": {
          "base_uri": "https://localhost:8080/",
          "height": 386
        },
        "outputId": "192c6b70-fa71-4c24-d345-1a6c914b73bb"
      },
      "source": [
        "\n",
        "sns.displot(clustering)\n"
      ],
      "execution_count": 99,
      "outputs": [
        {
          "output_type": "execute_result",
          "data": {
            "text/plain": [
              "<seaborn.axisgrid.FacetGrid at 0x7f2df89df410>"
            ]
          },
          "metadata": {
            "tags": []
          },
          "execution_count": 99
        },
        {
          "output_type": "display_data",
          "data": {
            "image/png": "[encoded data removed]",
            "text/plain": [
              "<Figure size 408.25x360 with 1 Axes>"
            ]
          },
          "metadata": {
            "tags": [],
            "needs_background": "light"
          }
        }
      ]
    },
    {
      "cell_type": "code",
      "metadata": {
        "id": "ZxzLye-HONyA",
        "colab": {
          "base_uri": "https://localhost:8080/",
          "height": 297
        },
        "outputId": "7dc413dc-f972-4e4b-b0d7-e6ad270aef70"
      },
      "source": [
        "clustering.describe()"
      ],
      "execution_count": 100,
      "outputs": [
        {
          "output_type": "execute_result",
          "data": {
            "text/html": [
              "<div>\n",
              "<style scoped>\n",
              "    .dataframe tbody tr th:only-of-type {\n",
              "        vertical-align: middle;\n",
              "    }\n",
              "\n",
              "    .dataframe tbody tr th {\n",
              "        vertical-align: top;\n",
              "    }\n",
              "\n",
              "    .dataframe thead th {\n",
              "        text-align: right;\n",
              "    }\n",
              "</style>\n",
              "<table border=\"1\" class=\"dataframe\">\n",
              "  <thead>\n",
              "    <tr style=\"text-align: right;\">\n",
              "      <th></th>\n",
              "      <th>x1</th>\n",
              "      <th>x2</th>\n",
              "      <th>x3</th>\n",
              "      <th>x4</th>\n",
              "    </tr>\n",
              "  </thead>\n",
              "  <tbody>\n",
              "    <tr>\n",
              "      <th>count</th>\n",
              "      <td>351.000000</td>\n",
              "      <td>351.000000</td>\n",
              "      <td>351.000000</td>\n",
              "      <td>351.000000</td>\n",
              "    </tr>\n",
              "    <tr>\n",
              "      <th>mean</th>\n",
              "      <td>0.278820</td>\n",
              "      <td>0.472738</td>\n",
              "      <td>1.643857</td>\n",
              "      <td>1.482918</td>\n",
              "    </tr>\n",
              "    <tr>\n",
              "      <th>std</th>\n",
              "      <td>0.341446</td>\n",
              "      <td>0.511023</td>\n",
              "      <td>1.668052</td>\n",
              "      <td>0.964016</td>\n",
              "    </tr>\n",
              "    <tr>\n",
              "      <th>min</th>\n",
              "      <td>0.048604</td>\n",
              "      <td>0.047022</td>\n",
              "      <td>0.367717</td>\n",
              "      <td>0.232562</td>\n",
              "    </tr>\n",
              "    <tr>\n",
              "      <th>25%</th>\n",
              "      <td>0.111341</td>\n",
              "      <td>0.115257</td>\n",
              "      <td>0.815180</td>\n",
              "      <td>0.857948</td>\n",
              "    </tr>\n",
              "    <tr>\n",
              "      <th>50%</th>\n",
              "      <td>0.153383</td>\n",
              "      <td>0.165684</td>\n",
              "      <td>1.083528</td>\n",
              "      <td>1.190996</td>\n",
              "    </tr>\n",
              "    <tr>\n",
              "      <th>75%</th>\n",
              "      <td>0.212564</td>\n",
              "      <td>0.854725</td>\n",
              "      <td>1.557597</td>\n",
              "      <td>1.724461</td>\n",
              "    </tr>\n",
              "    <tr>\n",
              "      <th>max</th>\n",
              "      <td>2.037125</td>\n",
              "      <td>2.476118</td>\n",
              "      <td>12.635585</td>\n",
              "      <td>7.726843</td>\n",
              "    </tr>\n",
              "  </tbody>\n",
              "</table>\n",
              "</div>"
            ],
            "text/plain": [
              "               x1          x2          x3          x4\n",
              "count  351.000000  351.000000  351.000000  351.000000\n",
              "mean     0.278820    0.472738    1.643857    1.482918\n",
              "std      0.341446    0.511023    1.668052    0.964016\n",
              "min      0.048604    0.047022    0.367717    0.232562\n",
              "25%      0.111341    0.115257    0.815180    0.857948\n",
              "50%      0.153383    0.165684    1.083528    1.190996\n",
              "75%      0.212564    0.854725    1.557597    1.724461\n",
              "max      2.037125    2.476118   12.635585    7.726843"
            ]
          },
          "metadata": {
            "tags": []
          },
          "execution_count": 100
        }
      ]
    },
    {
      "cell_type": "code",
      "metadata": {
        "id": "VwQ5C4oHOVPr",
        "colab": {
          "base_uri": "https://localhost:8080/",
          "height": 738
        },
        "outputId": "5daf8749-82af-414d-8dd4-8e94c66864c7"
      },
      "source": [
        "#using log transform\n",
        "clustering_log= np.log(clustering)\n",
        "sns.displot(clustering['x3'])\n",
        "sns.displot(clustering_log['x3'])"
      ],
      "execution_count": 101,
      "outputs": [
        {
          "output_type": "execute_result",
          "data": {
            "text/plain": [
              "<seaborn.axisgrid.FacetGrid at 0x7f2df7b53d90>"
            ]
          },
          "metadata": {
            "tags": []
          },
          "execution_count": 101
        },
        {
          "output_type": "display_data",
          "data": {
            "image/png": "[encoded data removed]",
            "text/plain": [
              "<Figure size 360x360 with 1 Axes>"
            ]
          },
          "metadata": {
            "tags": [],
            "needs_background": "light"
          }
        },
        {
          "output_type": "display_data",
          "data": {
            "image/png": "[encoded data removed]",
            "text/plain": [
              "<Figure size 360x360 with 1 Axes>"
            ]
          },
          "metadata": {
            "tags": [],
            "needs_background": "light"
          }
        }
      ]
    },
    {
      "cell_type": "code",
      "metadata": {
        "id": "NoG7RuFdPv68"
      },
      "source": [
        "#1b. Train k-means, and find the appropriate number of k.\n",
        "Sum_of_squared_distances = []\n",
        "K = range(1,15)\n",
        "for k in K:\n",
        "    km = KMeans(n_clusters=k)\n",
        "    km = km.fit(clustering_log)\n",
        "    Sum_of_squared_distances.append(km.inertia_)"
      ],
      "execution_count": 102,
      "outputs": []
    },
    {
      "cell_type": "code",
      "metadata": {
        "id": "MpXUxK50SQhA",
        "colab": {
          "base_uri": "https://localhost:8080/",
          "height": 295
        },
        "outputId": "b1ca9b79-6606-45dc-ab51-9e6b5db1a793"
      },
      "source": [
        "plt.plot(K, Sum_of_squared_distances, 'bx-')\n",
        "plt.xlabel('k')\n",
        "plt.ylabel('Sum_of_squared_distances')\n",
        "plt.title('Elbow Method For Optimal k')\n",
        "plt.show()"
      ],
      "execution_count": 103,
      "outputs": [
        {
          "output_type": "display_data",
          "data": {
            "image/png": "[encoded data removed]",
            "text/plain": [
              "<Figure size 432x288 with 1 Axes>"
            ]
          },
          "metadata": {
            "tags": [],
            "needs_background": "light"
          }
        }
      ]
    },
    {
      "cell_type": "markdown",
      "metadata": {
        "id": "zPe45TtsSjZ2"
      },
      "source": [
        "In the plot above the elbow is at k=4 indicating the optimal k for this dataset is 4"
      ]
    },
    {
      "cell_type": "code",
      "metadata": {
        "id": "0SIYcSG9SpH8",
        "colab": {
          "base_uri": "https://localhost:8080/"
        },
        "outputId": "41ee94cc-9f33-48c1-a7ce-0690dd462b97"
      },
      "source": [
        "km = KMeans(n_clusters=4)\n",
        "km = km.fit(clustering_log)\n",
        "print(km.labels_)"
      ],
      "execution_count": 104,
      "outputs": [
        {
          "output_type": "stream",
          "text": [
            "[1 1 1 1 1 1 1 1 1 1 1 1 1 1 1 1 1 1 1 1 1 1 1 1 1 1 1 1 1 1 1 1 1 1 1 1 1\n",
            " 1 1 1 1 1 1 1 1 1 1 1 1 1 1 1 1 2 2 2 2 2 2 2 2 2 2 2 2 2 2 2 2 2 2 2 2 2\n",
            " 2 2 2 2 2 2 2 2 2 2 2 2 1 2 2 2 2 2 2 2 2 2 2 2 2 2 2 2 2 2 2 2 2 2 2 2 2\n",
            " 2 2 2 2 2 2 2 2 2 2 2 3 3 3 3 3 3 3 3 3 0 3 3 3 3 3 3 3 3 3 3 3 3 3 3 3 3\n",
            " 3 0 3 3 3 3 3 3 3 3 3 3 3 3 3 0 3 3 3 3 3 3 3 3 3 3 3 3 3 3 3 3 3 3 3 3 3\n",
            " 3 3 3 3 3 3 3 3 3 2 3 3 3 3 3 3 3 3 2 3 3 3 3 0 3 3 3 0 0 0 0 0 0 0 0 0 0\n",
            " 0 0 0 0 0 0 0 0 0 0 0 0 0 0 0 0 0 0 0 0 0 0 0 0 0 0 0 0 0 0 0 0 0 0 0 0 0\n",
            " 0 0 0 0 3 3 3 3 3 3 3 3 3 3 3 3 3 3 3 3 3 3 3 3 3 3 3 3 3 3 3 3 3 3 3 3 3\n",
            " 3 3 3 3 3 3 3 3 3 3 3 3 3 3 3 3 3 3 3 3 3 3 3 3 3 3 3 0 3 3 3 3 3 3 3 3 3\n",
            " 3 3 3 3 3 3 3 3 3 3 3 3 3 0 3 3 3 3]\n"
          ],
          "name": "stdout"
        }
      ]
    },
    {
      "cell_type": "code",
      "metadata": {
        "id": "U1Ew_I2lJk9M",
        "colab": {
          "base_uri": "https://localhost:8080/"
        },
        "outputId": "82047bff-d085-4307-c027-521e759d8e94"
      },
      "source": [
        "np.unique(km.labels_)"
      ],
      "execution_count": 105,
      "outputs": [
        {
          "output_type": "execute_result",
          "data": {
            "text/plain": [
              "array([0, 1, 2, 3], dtype=int32)"
            ]
          },
          "metadata": {
            "tags": []
          },
          "execution_count": 105
        }
      ]
    },
    {
      "cell_type": "code",
      "metadata": {
        "id": "Wlnfye5-jTzN",
        "colab": {
          "base_uri": "https://localhost:8080/"
        },
        "outputId": "d775c51e-7dfa-4561-acb6-1427e64b96a9"
      },
      "source": [
        "#1c. Train DBSCAN, and see if by varying MinPts and ε, you can get the same number of clusters as k-means.\n",
        "\n",
        "dbscan = DBSCAN(eps = 0.5, min_samples = 5)\n",
        "dbscan = dbscan.fit(clustering_log)\n",
        "print(dbscan.labels_)\n",
        "np.unique(dbscan.labels_)"
      ],
      "execution_count": 108,
      "outputs": [
        {
          "output_type": "stream",
          "text": [
            "[ 0  0  0  0  0  0 -1  0  0  0  0 -1  0 -1  0  0 -1  0  0  0 -1  0  0 -1\n",
            "  0  0  0 -1  0 -1 -1  0  0  0 -1  0  0  0  0  0  0 -1 -1  0  0  0 -1  0\n",
            " -1  0  0  0  0  1 -1  1  1  1 -1  1  1  1 -1  1  1  1  1  1  1  1  1  1\n",
            "  1  1  1 -1  1  1 -1 -1  1  1 -1 -1 -1  1 -1 -1 -1 -1 -1  1  1 -1  1  1\n",
            "  1  1  1 -1 -1  1  1  1  1  1  1  1  1  1  1  1 -1 -1  1  1 -1  1 -1  1\n",
            "  1  1  2  2 -1  2  2  2  2  2  2  2  2  2 -1  2 -1  2  2  2  2  2  2  2\n",
            " -1  2  2  2  2 -1 -1  2  2  2  2  2  2  2  2  2  2  2  2  2  2  2  2  2\n",
            "  2  2  2  2  2  2  2  2 -1 -1  2  2  2  2  2 -1  2  2  2  2  2  2  2  2\n",
            "  2  2 -1  2  2  2  2  2  2  2  2 -1  2  2  2  2 -1  2  2  2  2  2  2 -1\n",
            "  2 -1 -1 -1  2  2 -1 -1  2  2  2 -1 -1 -1 -1  2 -1  2 -1 -1  2 -1  2  2\n",
            " -1 -1  2  2  2 -1  2 -1  2 -1  2  2  2 -1  2  2 -1  2  2 -1  2 -1 -1  2\n",
            "  2  2  2  2  2  2  2  2  2  2  2  2  2 -1  2  2  2  2  2  2  2  2  2  2\n",
            "  2  2  2  2  2  2  2 -1  2  2  2  2 -1  2  2  2  2  2  2  2 -1 -1  2  2\n",
            "  2  2  2  2  2  2  2  2  2  2  2 -1  2  2  2  2  2  2  2  2 -1  2  2  2\n",
            "  2  2 -1  2  2  2 -1  2  2  2  2  2  2  2  2]\n"
          ],
          "name": "stdout"
        },
        {
          "output_type": "execute_result",
          "data": {
            "text/plain": [
              "array([-1,  0,  1,  2])"
            ]
          },
          "metadata": {
            "tags": []
          },
          "execution_count": 108
        }
      ]
    },
    {
      "cell_type": "markdown",
      "metadata": {
        "id": "0di8GwsKnwox"
      },
      "source": [
        "For MinPts = 5 and ε = 0.5 we get 4 clusters"
      ]
    },
    {
      "cell_type": "code",
      "metadata": {
        "id": "JrMhk9paoL-V"
      },
      "source": [
        "clustering_log['labels']=dbscan.labels_\n",
        "clustering_log\n",
        "clustering_log_wolabels = clustering_log.drop('labels',axis=1)"
      ],
      "execution_count": 109,
      "outputs": []
    },
    {
      "cell_type": "code",
      "metadata": {
        "colab": {
          "base_uri": "https://localhost:8080/"
        },
        "id": "-7rzqiUBSyl3",
        "outputId": "e30ca913-f0f4-43bc-911b-bfd90a55a60d"
      },
      "source": [
        "#1d.Using the cluster assignment as the label, visualize the t-sne embedding.\n",
        "\n",
        "model = TSNE(learning_rate=200)\n",
        "tsne_features = model.fit_transform(clustering_log_wolabels)\n",
        "tsne_features[1:4,:]"
      ],
      "execution_count": 110,
      "outputs": [
        {
          "output_type": "execute_result",
          "data": {
            "text/plain": [
              "array([[ 20.819666, -36.69493 ],\n",
              "       [ 20.380646, -35.170074],\n",
              "       [ 21.34717 , -35.816025]], dtype=float32)"
            ]
          },
          "metadata": {
            "tags": []
          },
          "execution_count": 110
        }
      ]
    },
    {
      "cell_type": "code",
      "metadata": {
        "colab": {
          "base_uri": "https://localhost:8080/",
          "height": 279
        },
        "id": "WPYt5t0PTqRl",
        "outputId": "eff2708f-9fec-46a4-ef4e-9c6054c76ddf"
      },
      "source": [
        "clustering_log['x']=tsne_features[:,0]\n",
        "clustering_log['y']=tsne_features[:,1]\n",
        "sns.scatterplot(x='x',y='y',hue='labels',data=clustering_log)\n",
        "plt.show()"
      ],
      "execution_count": 111,
      "outputs": [
        {
          "output_type": "display_data",
          "data": {
            "image/png": "[encoded data removed]",
            "text/plain": [
              "<Figure size 432x288 with 1 Axes>"
            ]
          },
          "metadata": {
            "tags": [],
            "needs_background": "light"
          }
        }
      ]
    },
    {
      "cell_type": "markdown",
      "metadata": {
        "id": "sA0XUBiZnGqq"
      },
      "source": [
        "**2. PCA:**"
      ]
    },
    {
      "cell_type": "code",
      "metadata": {
        "colab": {
          "base_uri": "https://localhost:8080/",
          "height": 221
        },
        "id": "JbvRX9GLZtQf",
        "outputId": "e5d2d43c-c4b6-4cb4-8284-d8c549bdcbab"
      },
      "source": [
        "#2a. Visualize and preprocessing the data from the file DataPCA.csv\n",
        "print(\"Rows, columns: \" + str(pca.shape))\n",
        "pca.head()"
      ],
      "execution_count": 112,
      "outputs": [
        {
          "output_type": "stream",
          "text": [
            "Rows, columns: (190, 7)\n"
          ],
          "name": "stdout"
        },
        {
          "output_type": "execute_result",
          "data": {
            "text/html": [
              "<div>\n",
              "<style scoped>\n",
              "    .dataframe tbody tr th:only-of-type {\n",
              "        vertical-align: middle;\n",
              "    }\n",
              "\n",
              "    .dataframe tbody tr th {\n",
              "        vertical-align: top;\n",
              "    }\n",
              "\n",
              "    .dataframe thead th {\n",
              "        text-align: right;\n",
              "    }\n",
              "</style>\n",
              "<table border=\"1\" class=\"dataframe\">\n",
              "  <thead>\n",
              "    <tr style=\"text-align: right;\">\n",
              "      <th></th>\n",
              "      <th>x1</th>\n",
              "      <th>x2</th>\n",
              "      <th>x3</th>\n",
              "      <th>x4</th>\n",
              "      <th>x5</th>\n",
              "      <th>x6</th>\n",
              "      <th>x7</th>\n",
              "    </tr>\n",
              "  </thead>\n",
              "  <tbody>\n",
              "    <tr>\n",
              "      <th>0</th>\n",
              "      <td>0.840261</td>\n",
              "      <td>-1.088160</td>\n",
              "      <td>4.861744</td>\n",
              "      <td>4.273055</td>\n",
              "      <td>4.312457</td>\n",
              "      <td>-0.137834</td>\n",
              "      <td>0.076453</td>\n",
              "    </tr>\n",
              "    <tr>\n",
              "      <th>1</th>\n",
              "      <td>1.320591</td>\n",
              "      <td>-1.174113</td>\n",
              "      <td>5.247360</td>\n",
              "      <td>3.295027</td>\n",
              "      <td>4.283410</td>\n",
              "      <td>-0.363759</td>\n",
              "      <td>-0.170605</td>\n",
              "    </tr>\n",
              "    <tr>\n",
              "      <th>2</th>\n",
              "      <td>1.537909</td>\n",
              "      <td>-1.175882</td>\n",
              "      <td>5.556251</td>\n",
              "      <td>3.394183</td>\n",
              "      <td>3.971574</td>\n",
              "      <td>-0.888398</td>\n",
              "      <td>0.080617</td>\n",
              "    </tr>\n",
              "    <tr>\n",
              "      <th>3</th>\n",
              "      <td>0.363552</td>\n",
              "      <td>-1.130608</td>\n",
              "      <td>4.329890</td>\n",
              "      <td>5.547488</td>\n",
              "      <td>4.539732</td>\n",
              "      <td>0.342330</td>\n",
              "      <td>0.251953</td>\n",
              "    </tr>\n",
              "    <tr>\n",
              "      <th>4</th>\n",
              "      <td>1.567938</td>\n",
              "      <td>-1.114719</td>\n",
              "      <td>5.542104</td>\n",
              "      <td>2.493071</td>\n",
              "      <td>4.156157</td>\n",
              "      <td>-0.609694</td>\n",
              "      <td>-0.291367</td>\n",
              "    </tr>\n",
              "  </tbody>\n",
              "</table>\n",
              "</div>"
            ],
            "text/plain": [
              "         x1        x2        x3        x4        x5        x6        x7\n",
              "0  0.840261 -1.088160  4.861744  4.273055  4.312457 -0.137834  0.076453\n",
              "1  1.320591 -1.174113  5.247360  3.295027  4.283410 -0.363759 -0.170605\n",
              "2  1.537909 -1.175882  5.556251  3.394183  3.971574 -0.888398  0.080617\n",
              "3  0.363552 -1.130608  4.329890  5.547488  4.539732  0.342330  0.251953\n",
              "4  1.567938 -1.114719  5.542104  2.493071  4.156157 -0.609694 -0.291367"
            ]
          },
          "metadata": {
            "tags": []
          },
          "execution_count": 112
        }
      ]
    },
    {
      "cell_type": "code",
      "metadata": {
        "colab": {
          "base_uri": "https://localhost:8080/",
          "height": 1000
        },
        "id": "0GnPx0UAaDIA",
        "outputId": "c89da9ea-4903-4e16-98ef-df262f2638f2"
      },
      "source": [
        "sns.displot(pca['x1'])\n",
        "sns.displot(pca['x2'])\n",
        "sns.displot(pca['x3'])\n",
        "sns.displot(pca['x4'])\n",
        "sns.displot(pca['x5'])\n",
        "sns.displot(pca['x6'])\n",
        "sns.displot(pca['x7'])"
      ],
      "execution_count": 113,
      "outputs": [
        {
          "output_type": "execute_result",
          "data": {
            "text/plain": [
              "<seaborn.axisgrid.FacetGrid at 0x7f2df78cce10>"
            ]
          },
          "metadata": {
            "tags": []
          },
          "execution_count": 113
        },
        {
          "output_type": "display_data",
          "data": {
            "image/png": "[encoded data removed]",
            "text/plain": [
              "<Figure size 360x360 with 1 Axes>"
            ]
          },
          "metadata": {
            "tags": [],
            "needs_background": "light"
          }
        },
        {
          "output_type": "display_data",
          "data": {
            "image/png": "[encoded data removed]",
            "text/plain": [
              "<Figure size 360x360 with 1 Axes>"
            ]
          },
          "metadata": {
            "tags": [],
            "needs_background": "light"
          }
        },
        {
          "output_type": "display_data",
          "data": {
            "image/png": "[encoded data removed]",
            "text/plain": [
              "<Figure size 360x360 with 1 Axes>"
            ]
          },
          "metadata": {
            "tags": [],
            "needs_background": "light"
          }
        },
        {
          "output_type": "display_data",
          "data": {
            "image/png": "[encoded data removed]",
            "text/plain": [
              "<Figure size 360x360 with 1 Axes>"
            ]
          },
          "metadata": {
            "tags": [],
            "needs_background": "light"
          }
        },
        {
          "output_type": "display_data",
          "data": {
            "image/png": "[encoded data removed]",
            "text/plain": [
              "<Figure size 360x360 with 1 Axes>"
            ]
          },
          "metadata": {
            "tags": [],
            "needs_background": "light"
          }
        },
        {
          "output_type": "display_data",
          "data": {
            "image/png": "[encoded data removed]",
            "text/plain": [
              "<Figure size 360x360 with 1 Axes>"
            ]
          },
          "metadata": {
            "tags": [],
            "needs_background": "light"
          }
        },
        {
          "output_type": "display_data",
          "data": {
            "image/png": "[encoded data removed]",
            "text/plain": [
              "<Figure size 360x360 with 1 Axes>"
            ]
          },
          "metadata": {
            "tags": [],
            "needs_background": "light"
          }
        }
      ]
    },
    {
      "cell_type": "code",
      "metadata": {
        "colab": {
          "base_uri": "https://localhost:8080/",
          "height": 297
        },
        "id": "Wtl40H85boQK",
        "outputId": "6c882de3-31c8-4f82-a9d5-f4d4db799f43"
      },
      "source": [
        "pca.describe()"
      ],
      "execution_count": 114,
      "outputs": [
        {
          "output_type": "execute_result",
          "data": {
            "text/html": [
              "<div>\n",
              "<style scoped>\n",
              "    .dataframe tbody tr th:only-of-type {\n",
              "        vertical-align: middle;\n",
              "    }\n",
              "\n",
              "    .dataframe tbody tr th {\n",
              "        vertical-align: top;\n",
              "    }\n",
              "\n",
              "    .dataframe thead th {\n",
              "        text-align: right;\n",
              "    }\n",
              "</style>\n",
              "<table border=\"1\" class=\"dataframe\">\n",
              "  <thead>\n",
              "    <tr style=\"text-align: right;\">\n",
              "      <th></th>\n",
              "      <th>x1</th>\n",
              "      <th>x2</th>\n",
              "      <th>x3</th>\n",
              "      <th>x4</th>\n",
              "      <th>x5</th>\n",
              "      <th>x6</th>\n",
              "      <th>x7</th>\n",
              "    </tr>\n",
              "  </thead>\n",
              "  <tbody>\n",
              "    <tr>\n",
              "      <th>count</th>\n",
              "      <td>190.000000</td>\n",
              "      <td>190.000000</td>\n",
              "      <td>190.000000</td>\n",
              "      <td>190.000000</td>\n",
              "      <td>190.000000</td>\n",
              "      <td>190.000000</td>\n",
              "      <td>190.000000</td>\n",
              "    </tr>\n",
              "    <tr>\n",
              "      <th>mean</th>\n",
              "      <td>1.286644</td>\n",
              "      <td>-1.135656</td>\n",
              "      <td>5.254907</td>\n",
              "      <td>3.342504</td>\n",
              "      <td>4.233765</td>\n",
              "      <td>-0.412937</td>\n",
              "      <td>-0.119058</td>\n",
              "    </tr>\n",
              "    <tr>\n",
              "      <th>std</th>\n",
              "      <td>0.508765</td>\n",
              "      <td>0.233921</td>\n",
              "      <td>0.549171</td>\n",
              "      <td>0.995603</td>\n",
              "      <td>0.328327</td>\n",
              "      <td>0.482069</td>\n",
              "      <td>0.239692</td>\n",
              "    </tr>\n",
              "    <tr>\n",
              "      <th>min</th>\n",
              "      <td>-0.074116</td>\n",
              "      <td>-1.734167</td>\n",
              "      <td>3.967657</td>\n",
              "      <td>0.649854</td>\n",
              "      <td>3.306106</td>\n",
              "      <td>-1.936695</td>\n",
              "      <td>-0.786517</td>\n",
              "    </tr>\n",
              "    <tr>\n",
              "      <th>25%</th>\n",
              "      <td>0.928244</td>\n",
              "      <td>-1.298233</td>\n",
              "      <td>4.883782</td>\n",
              "      <td>2.645102</td>\n",
              "      <td>4.020569</td>\n",
              "      <td>-0.741547</td>\n",
              "      <td>-0.278181</td>\n",
              "    </tr>\n",
              "    <tr>\n",
              "      <th>50%</th>\n",
              "      <td>1.271034</td>\n",
              "      <td>-1.145689</td>\n",
              "      <td>5.249568</td>\n",
              "      <td>3.400840</td>\n",
              "      <td>4.242064</td>\n",
              "      <td>-0.377963</td>\n",
              "      <td>-0.122850</td>\n",
              "    </tr>\n",
              "    <tr>\n",
              "      <th>75%</th>\n",
              "      <td>1.637682</td>\n",
              "      <td>-0.997318</td>\n",
              "      <td>5.625487</td>\n",
              "      <td>3.996560</td>\n",
              "      <td>4.463035</td>\n",
              "      <td>-0.096413</td>\n",
              "      <td>0.036964</td>\n",
              "    </tr>\n",
              "    <tr>\n",
              "      <th>max</th>\n",
              "      <td>2.504835</td>\n",
              "      <td>-0.440730</td>\n",
              "      <td>6.857529</td>\n",
              "      <td>5.817673</td>\n",
              "      <td>5.056247</td>\n",
              "      <td>0.823165</td>\n",
              "      <td>0.526882</td>\n",
              "    </tr>\n",
              "  </tbody>\n",
              "</table>\n",
              "</div>"
            ],
            "text/plain": [
              "               x1          x2          x3  ...          x5          x6          x7\n",
              "count  190.000000  190.000000  190.000000  ...  190.000000  190.000000  190.000000\n",
              "mean     1.286644   -1.135656    5.254907  ...    4.233765   -0.412937   -0.119058\n",
              "std      0.508765    0.233921    0.549171  ...    0.328327    0.482069    0.239692\n",
              "min     -0.074116   -1.734167    3.967657  ...    3.306106   -1.936695   -0.786517\n",
              "25%      0.928244   -1.298233    4.883782  ...    4.020569   -0.741547   -0.278181\n",
              "50%      1.271034   -1.145689    5.249568  ...    4.242064   -0.377963   -0.122850\n",
              "75%      1.637682   -0.997318    5.625487  ...    4.463035   -0.096413    0.036964\n",
              "max      2.504835   -0.440730    6.857529  ...    5.056247    0.823165    0.526882\n",
              "\n",
              "[8 rows x 7 columns]"
            ]
          },
          "metadata": {
            "tags": []
          },
          "execution_count": 114
        }
      ]
    },
    {
      "cell_type": "code",
      "metadata": {
        "colab": {
          "base_uri": "https://localhost:8080/",
          "height": 204
        },
        "id": "BwJ2Ac9oxqui",
        "outputId": "1f670138-9f54-45c5-dcf4-a1b3acc51e9e"
      },
      "source": [
        "\n",
        "# Standardize the features\n",
        "pca_scaled = StandardScaler().fit_transform(pca)\n",
        "\n",
        "# Preview X\n",
        "pd.DataFrame(data=pca_scaled).head()"
      ],
      "execution_count": 115,
      "outputs": [
        {
          "output_type": "execute_result",
          "data": {
            "text/html": [
              "<div>\n",
              "<style scoped>\n",
              "    .dataframe tbody tr th:only-of-type {\n",
              "        vertical-align: middle;\n",
              "    }\n",
              "\n",
              "    .dataframe tbody tr th {\n",
              "        vertical-align: top;\n",
              "    }\n",
              "\n",
              "    .dataframe thead th {\n",
              "        text-align: right;\n",
              "    }\n",
              "</style>\n",
              "<table border=\"1\" class=\"dataframe\">\n",
              "  <thead>\n",
              "    <tr style=\"text-align: right;\">\n",
              "      <th></th>\n",
              "      <th>0</th>\n",
              "      <th>1</th>\n",
              "      <th>2</th>\n",
              "      <th>3</th>\n",
              "      <th>4</th>\n",
              "      <th>5</th>\n",
              "      <th>6</th>\n",
              "    </tr>\n",
              "  </thead>\n",
              "  <tbody>\n",
              "    <tr>\n",
              "      <th>0</th>\n",
              "      <td>-0.879702</td>\n",
              "      <td>0.203581</td>\n",
              "      <td>-0.717812</td>\n",
              "      <td>0.937130</td>\n",
              "      <td>0.240310</td>\n",
              "      <td>0.572178</td>\n",
              "      <td>0.817830</td>\n",
              "    </tr>\n",
              "    <tr>\n",
              "      <th>1</th>\n",
              "      <td>0.066901</td>\n",
              "      <td>-0.164833</td>\n",
              "      <td>-0.013778</td>\n",
              "      <td>-0.047812</td>\n",
              "      <td>0.151606</td>\n",
              "      <td>0.102283</td>\n",
              "      <td>-0.215624</td>\n",
              "    </tr>\n",
              "    <tr>\n",
              "      <th>2</th>\n",
              "      <td>0.495178</td>\n",
              "      <td>-0.172416</td>\n",
              "      <td>0.550176</td>\n",
              "      <td>0.052044</td>\n",
              "      <td>-0.800676</td>\n",
              "      <td>-0.988900</td>\n",
              "      <td>0.835247</td>\n",
              "    </tr>\n",
              "    <tr>\n",
              "      <th>3</th>\n",
              "      <td>-1.819170</td>\n",
              "      <td>0.021640</td>\n",
              "      <td>-1.688840</td>\n",
              "      <td>2.220573</td>\n",
              "      <td>0.934360</td>\n",
              "      <td>1.570859</td>\n",
              "      <td>1.551955</td>\n",
              "    </tr>\n",
              "    <tr>\n",
              "      <th>4</th>\n",
              "      <td>0.554357</td>\n",
              "      <td>0.089743</td>\n",
              "      <td>0.524348</td>\n",
              "      <td>-0.855438</td>\n",
              "      <td>-0.236998</td>\n",
              "      <td>-0.409231</td>\n",
              "      <td>-0.720773</td>\n",
              "    </tr>\n",
              "  </tbody>\n",
              "</table>\n",
              "</div>"
            ],
            "text/plain": [
              "          0         1         2         3         4         5         6\n",
              "0 -0.879702  0.203581 -0.717812  0.937130  0.240310  0.572178  0.817830\n",
              "1  0.066901 -0.164833 -0.013778 -0.047812  0.151606  0.102283 -0.215624\n",
              "2  0.495178 -0.172416  0.550176  0.052044 -0.800676 -0.988900  0.835247\n",
              "3 -1.819170  0.021640 -1.688840  2.220573  0.934360  1.570859  1.551955\n",
              "4  0.554357  0.089743  0.524348 -0.855438 -0.236998 -0.409231 -0.720773"
            ]
          },
          "metadata": {
            "tags": []
          },
          "execution_count": 115
        }
      ]
    },
    {
      "cell_type": "code",
      "metadata": {
        "id": "Q-b_4V0iy3QB"
      },
      "source": [
        "#2b. Train PCA.\n",
        "\n",
        "# Import PCA from sklearn\n",
        "from sklearn.decomposition import PCA\n",
        "nComp =4 # no of components\n",
        "# Instantiate PCA\n",
        "PCA_model = PCA(n_components=nComp)\n",
        "\n",
        "# Fit PCA to features\n",
        "principalComponents = PCA_model.fit_transform(pca_scaled)"
      ],
      "execution_count": 116,
      "outputs": []
    },
    {
      "cell_type": "code",
      "metadata": {
        "colab": {
          "base_uri": "https://localhost:8080/"
        },
        "id": "oBT9POEazu7_",
        "outputId": "3188fcf0-730a-41cc-d3c8-8d4a503c48db"
      },
      "source": [
        "print('Variance of each component:', PCA_model.explained_variance_ratio_)\n",
        "print('\\n Total Variance Explained:',\n",
        "      round(sum(list(PCA_model.explained_variance_ratio_))*100, 2))"
      ],
      "execution_count": 117,
      "outputs": [
        {
          "output_type": "stream",
          "text": [
            "Variance of each component: [0.60927057 0.31946097 0.0649562  0.00607239]\n",
            "\n",
            " Total Variance Explained: 99.98\n"
          ],
          "name": "stdout"
        }
      ]
    },
    {
      "cell_type": "code",
      "metadata": {
        "colab": {
          "base_uri": "https://localhost:8080/",
          "height": 297
        },
        "id": "B19IUhhY1I0u",
        "outputId": "24c1db15-c0c2-4124-9cfd-a745da955128"
      },
      "source": [
        "#2c.Plot the variance explained versus PCA dimensions.\n",
        "with plt.style.context('seaborn-whitegrid'):\n",
        "    plt.figure(figsize=(6, 4))\n",
        "\n",
        "    plt.bar(range(nComp), PCA_model.explained_variance_ratio_, alpha=0.5, align='center',\n",
        "            label='individual explained variance')\n",
        "    plt.ylabel('Explained variance ratio')\n",
        "    plt.xlabel('Principal components')\n",
        "    plt.legend(loc='best')\n",
        "    plt.tight_layout()"
      ],
      "execution_count": 118,
      "outputs": [
        {
          "output_type": "display_data",
          "data": {
            "image/png": "[encoded data removed]",
            "text/plain": [
              "<Figure size 432x288 with 1 Axes>"
            ]
          },
          "metadata": {
            "tags": []
          }
        }
      ]
    },
    {
      "cell_type": "code",
      "metadata": {
        "colab": {
          "base_uri": "https://localhost:8080/"
        },
        "id": "TKwVibOE4UpV",
        "outputId": "324df096-f83a-431e-eb0d-9f5dcb15333f"
      },
      "source": [
        "#2d.Reconstruct the data with various numbers of PCA dimensions\n",
        "mu = np.mean(pca_scaled, axis=0)\n",
        "#Reconstructing Data using principal components\n",
        "Xhat = np.dot(PCA_model.transform(pca_scaled)[:,:nComp], PCA_model.components_[:nComp,:])\n",
        "Xhat += mu\n",
        "\n",
        "print(Xhat[0,])\n",
        "print(pca_scaled[0,])"
      ],
      "execution_count": 119,
      "outputs": [
        {
          "output_type": "stream",
          "text": [
            "[-0.88682399  0.20154498 -0.70850629  0.93852495  0.24374925  0.57074168\n",
            "  0.81704625]\n",
            "[-0.87970185  0.20358106 -0.7178119   0.93713018  0.24030982  0.572178\n",
            "  0.81782988]\n"
          ],
          "name": "stdout"
        }
      ]
    },
    {
      "cell_type": "code",
      "metadata": {
        "colab": {
          "base_uri": "https://localhost:8080/"
        },
        "id": "u0znKk2eVmKe",
        "outputId": "94404a67-6281-4113-b9a3-0b68c7e778d8"
      },
      "source": [
        "#2d calculating the mse\n",
        "difference_array = np.subtract(Xhat, pca_scaled)\n",
        "squared_array = np.square(difference_array)\n",
        "mse = squared_array.mean()\n",
        "print(mse)"
      ],
      "execution_count": 120,
      "outputs": [
        {
          "output_type": "stream",
          "text": [
            "0.00023987869019137444\n"
          ],
          "name": "stdout"
        }
      ]
    },
    {
      "cell_type": "markdown",
      "metadata": {
        "id": "HiiRs_rGm6-r"
      },
      "source": [
        "**3. Non-linear dimension reduction:**"
      ]
    },
    {
      "cell_type": "code",
      "metadata": {
        "colab": {
          "base_uri": "https://localhost:8080/",
          "height": 221
        },
        "id": "25_jCKJuXQFZ",
        "outputId": "7626078a-c693-4d70-dc46-2e6aac74e085"
      },
      "source": [
        "#3a. visualising and preprocessing the data\n",
        "print(\"Rows, columns: \" + str(kpca.shape))\n",
        "kpca.head()"
      ],
      "execution_count": 121,
      "outputs": [
        {
          "output_type": "stream",
          "text": [
            "Rows, columns: (190, 7)\n"
          ],
          "name": "stdout"
        },
        {
          "output_type": "execute_result",
          "data": {
            "text/html": [
              "<div>\n",
              "<style scoped>\n",
              "    .dataframe tbody tr th:only-of-type {\n",
              "        vertical-align: middle;\n",
              "    }\n",
              "\n",
              "    .dataframe tbody tr th {\n",
              "        vertical-align: top;\n",
              "    }\n",
              "\n",
              "    .dataframe thead th {\n",
              "        text-align: right;\n",
              "    }\n",
              "</style>\n",
              "<table border=\"1\" class=\"dataframe\">\n",
              "  <thead>\n",
              "    <tr style=\"text-align: right;\">\n",
              "      <th></th>\n",
              "      <th>x1</th>\n",
              "      <th>x2</th>\n",
              "      <th>x3</th>\n",
              "      <th>x4</th>\n",
              "      <th>x5</th>\n",
              "      <th>x6</th>\n",
              "      <th>x7</th>\n",
              "    </tr>\n",
              "  </thead>\n",
              "  <tbody>\n",
              "    <tr>\n",
              "      <th>0</th>\n",
              "      <td>2.596641</td>\n",
              "      <td>15.263178</td>\n",
              "      <td>-46.289607</td>\n",
              "      <td>-10.993265</td>\n",
              "      <td>-2.266729</td>\n",
              "      <td>1.935832</td>\n",
              "      <td>2.039688</td>\n",
              "    </tr>\n",
              "    <tr>\n",
              "      <th>1</th>\n",
              "      <td>3.096286</td>\n",
              "      <td>14.784802</td>\n",
              "      <td>-48.175614</td>\n",
              "      <td>-8.799362</td>\n",
              "      <td>-2.220871</td>\n",
              "      <td>1.851201</td>\n",
              "      <td>1.921974</td>\n",
              "    </tr>\n",
              "    <tr>\n",
              "      <th>2</th>\n",
              "      <td>3.360246</td>\n",
              "      <td>14.774917</td>\n",
              "      <td>-49.471841</td>\n",
              "      <td>-9.030501</td>\n",
              "      <td>-1.760447</td>\n",
              "      <td>1.753114</td>\n",
              "      <td>2.041933</td>\n",
              "    </tr>\n",
              "    <tr>\n",
              "      <th>3</th>\n",
              "      <td>2.214819</td>\n",
              "      <td>15.027394</td>\n",
              "      <td>-43.200400</td>\n",
              "      <td>-13.565001</td>\n",
              "      <td>-2.643018</td>\n",
              "      <td>2.200463</td>\n",
              "      <td>2.141847</td>\n",
              "    </tr>\n",
              "    <tr>\n",
              "      <th>4</th>\n",
              "      <td>3.398576</td>\n",
              "      <td>15.115756</td>\n",
              "      <td>-49.416644</td>\n",
              "      <td>-6.857672</td>\n",
              "      <td>-2.025936</td>\n",
              "      <td>1.788085</td>\n",
              "      <td>1.875540</td>\n",
              "    </tr>\n",
              "  </tbody>\n",
              "</table>\n",
              "</div>"
            ],
            "text/plain": [
              "         x1         x2         x3         x4        x5        x6        x7\n",
              "0  2.596641  15.263178 -46.289607 -10.993265 -2.266729  1.935832  2.039688\n",
              "1  3.096286  14.784802 -48.175614  -8.799362 -2.220871  1.851201  1.921974\n",
              "2  3.360246  14.774917 -49.471841  -9.030501 -1.760447  1.753114  2.041933\n",
              "3  2.214819  15.027394 -43.200400 -13.565001 -2.643018  2.200463  2.141847\n",
              "4  3.398576  15.115756 -49.416644  -6.857672 -2.025936  1.788085  1.875540"
            ]
          },
          "metadata": {
            "tags": []
          },
          "execution_count": 121
        }
      ]
    },
    {
      "cell_type": "code",
      "metadata": {
        "colab": {
          "base_uri": "https://localhost:8080/",
          "height": 1000
        },
        "id": "BvKv0X_BYUNz",
        "outputId": "1f1c731e-2b79-451a-8a17-c90b9bbc6714"
      },
      "source": [
        "sns.displot(kpca['x1'])\n",
        "sns.displot(kpca['x2'])\n",
        "sns.displot(kpca['x3'])\n",
        "sns.displot(kpca['x4'])\n",
        "sns.displot(kpca['x5'])\n",
        "sns.displot(kpca['x6'])\n",
        "sns.displot(kpca['x7'])"
      ],
      "execution_count": 122,
      "outputs": [
        {
          "output_type": "execute_result",
          "data": {
            "text/plain": [
              "<seaborn.axisgrid.FacetGrid at 0x7f2df8ab6f50>"
            ]
          },
          "metadata": {
            "tags": []
          },
          "execution_count": 122
        },
        {
          "output_type": "display_data",
          "data": {
            "image/png": "[encoded data removed]",
            "text/plain": [
              "<Figure size 360x360 with 1 Axes>"
            ]
          },
          "metadata": {
            "tags": [],
            "needs_background": "light"
          }
        },
        {
          "output_type": "display_data",
          "data": {
            "image/png": "[encoded data removed]",
            "text/plain": [
              "<Figure size 360x360 with 1 Axes>"
            ]
          },
          "metadata": {
            "tags": [],
            "needs_background": "light"
          }
        },
        {
          "output_type": "display_data",
          "data": {
            "image/png": "[encoded data removed]",
            "text/plain": [
              "<Figure size 360x360 with 1 Axes>"
            ]
          },
          "metadata": {
            "tags": [],
            "needs_background": "light"
          }
        },
        {
          "output_type": "display_data",
          "data": {
            "image/png": "[encoded data removed]",
            "text/plain": [
              "<Figure size 360x360 with 1 Axes>"
            ]
          },
          "metadata": {
            "tags": [],
            "needs_background": "light"
          }
        },
        {
          "output_type": "display_data",
          "data": {
            "image/png": "[encoded data removed]",
            "text/plain": [
              "<Figure size 360x360 with 1 Axes>"
            ]
          },
          "metadata": {
            "tags": [],
            "needs_background": "light"
          }
        },
        {
          "output_type": "display_data",
          "data": {
            "image/png": "[encoded data removed]",
            "text/plain": [
              "<Figure size 360x360 with 1 Axes>"
            ]
          },
          "metadata": {
            "tags": [],
            "needs_background": "light"
          }
        },
        {
          "output_type": "display_data",
          "data": {
            "image/png": "[encoded data removed]",
            "text/plain": [
              "<Figure size 360x360 with 1 Axes>"
            ]
          },
          "metadata": {
            "tags": [],
            "needs_background": "light"
          }
        }
      ]
    },
    {
      "cell_type": "code",
      "metadata": {
        "colab": {
          "base_uri": "https://localhost:8080/",
          "height": 204
        },
        "id": "BYEhD1kxaHDb",
        "outputId": "b83ac308-ce63-43fb-be17-34a6faa5165f"
      },
      "source": [
        "# Standardize the features\n",
        "kpca_scaled = StandardScaler().fit_transform(kpca)\n",
        "\n",
        "# Preview X\n",
        "pd.DataFrame(data=kpca_scaled).head()"
      ],
      "execution_count": 123,
      "outputs": [
        {
          "output_type": "execute_result",
          "data": {
            "text/html": [
              "<div>\n",
              "<style scoped>\n",
              "    .dataframe tbody tr th:only-of-type {\n",
              "        vertical-align: middle;\n",
              "    }\n",
              "\n",
              "    .dataframe tbody tr th {\n",
              "        vertical-align: top;\n",
              "    }\n",
              "\n",
              "    .dataframe thead th {\n",
              "        text-align: right;\n",
              "    }\n",
              "</style>\n",
              "<table border=\"1\" class=\"dataframe\">\n",
              "  <thead>\n",
              "    <tr style=\"text-align: right;\">\n",
              "      <th></th>\n",
              "      <th>0</th>\n",
              "      <th>1</th>\n",
              "      <th>2</th>\n",
              "      <th>3</th>\n",
              "      <th>4</th>\n",
              "      <th>5</th>\n",
              "      <th>6</th>\n",
              "    </tr>\n",
              "  </thead>\n",
              "  <tbody>\n",
              "    <tr>\n",
              "      <th>0</th>\n",
              "      <td>-0.893531</td>\n",
              "      <td>0.214228</td>\n",
              "      <td>0.660423</td>\n",
              "      <td>-0.935894</td>\n",
              "      <td>-0.180173</td>\n",
              "      <td>0.263020</td>\n",
              "      <td>0.750311</td>\n",
              "    </tr>\n",
              "    <tr>\n",
              "      <th>1</th>\n",
              "      <td>-0.043014</td>\n",
              "      <td>-0.155081</td>\n",
              "      <td>-0.108467</td>\n",
              "      <td>0.005283</td>\n",
              "      <td>-0.089272</td>\n",
              "      <td>-0.268499</td>\n",
              "      <td>-0.334918</td>\n",
              "    </tr>\n",
              "    <tr>\n",
              "      <th>2</th>\n",
              "      <td>0.406310</td>\n",
              "      <td>-0.162711</td>\n",
              "      <td>-0.636915</td>\n",
              "      <td>-0.093875</td>\n",
              "      <td>0.823388</td>\n",
              "      <td>-0.884520</td>\n",
              "      <td>0.771011</td>\n",
              "    </tr>\n",
              "    <tr>\n",
              "      <th>3</th>\n",
              "      <td>-1.543484</td>\n",
              "      <td>0.032201</td>\n",
              "      <td>1.919837</td>\n",
              "      <td>-2.039160</td>\n",
              "      <td>-0.926059</td>\n",
              "      <td>1.924996</td>\n",
              "      <td>1.692138</td>\n",
              "    </tr>\n",
              "    <tr>\n",
              "      <th>4</th>\n",
              "      <td>0.471557</td>\n",
              "      <td>0.100418</td>\n",
              "      <td>-0.614413</td>\n",
              "      <td>0.838262</td>\n",
              "      <td>0.297131</td>\n",
              "      <td>-0.664890</td>\n",
              "      <td>-0.762999</td>\n",
              "    </tr>\n",
              "  </tbody>\n",
              "</table>\n",
              "</div>"
            ],
            "text/plain": [
              "          0         1         2         3         4         5         6\n",
              "0 -0.893531  0.214228  0.660423 -0.935894 -0.180173  0.263020  0.750311\n",
              "1 -0.043014 -0.155081 -0.108467  0.005283 -0.089272 -0.268499 -0.334918\n",
              "2  0.406310 -0.162711 -0.636915 -0.093875  0.823388 -0.884520  0.771011\n",
              "3 -1.543484  0.032201  1.919837 -2.039160 -0.926059  1.924996  1.692138\n",
              "4  0.471557  0.100418 -0.614413  0.838262  0.297131 -0.664890 -0.762999"
            ]
          },
          "metadata": {
            "tags": []
          },
          "execution_count": 123
        }
      ]
    },
    {
      "cell_type": "code",
      "metadata": {
        "id": "ON2FFSxgZ55i"
      },
      "source": [
        "#3b. Train KPCA.\n",
        "from sklearn.decomposition import KernelPCA\n",
        "kpca = KernelPCA( n_components=4)\n",
        "kpca_transform = kpca.fit_transform(kpca_scaled)\n",
        "explained_variance = np.var(kpca_transform, axis=0)\n",
        "explained_variance_ratio = explained_variance / np.sum(explained_variance)"
      ],
      "execution_count": 127,
      "outputs": []
    },
    {
      "cell_type": "code",
      "metadata": {
        "colab": {
          "base_uri": "https://localhost:8080/"
        },
        "id": "mPl7IYBljbsV",
        "outputId": "fa363b8a-611a-4a64-9df7-cd57b6fde75e"
      },
      "source": [
        "explained_variance_ratio"
      ],
      "execution_count": 128,
      "outputs": [
        {
          "output_type": "execute_result",
          "data": {
            "text/plain": [
              "array([0.58049887, 0.32075611, 0.0714466 , 0.02729842])"
            ]
          },
          "metadata": {
            "tags": []
          },
          "execution_count": 128
        }
      ]
    },
    {
      "cell_type": "code",
      "metadata": {
        "colab": {
          "base_uri": "https://localhost:8080/",
          "height": 312
        },
        "id": "e0IKsVnGfyio",
        "outputId": "fce653a8-3be8-4101-e5b9-200810cd9219"
      },
      "source": [
        "    #3c. Plot the variance explained versus KPCA dimensions for up to 10 dimensions.\n",
        "    plt.bar([1,2,3,4],list(explained_variance_ratio*100),label='Principal Components',color='b')\n",
        "    plt.legend()\n",
        "    plt.title('variance explained versus KPCA')\n",
        "    plt.xlabel('Principal components ')"
      ],
      "execution_count": 129,
      "outputs": [
        {
          "output_type": "execute_result",
          "data": {
            "text/plain": [
              "Text(0.5, 0, 'Principal components ')"
            ]
          },
          "metadata": {
            "tags": []
          },
          "execution_count": 129
        },
        {
          "output_type": "display_data",
          "data": {
            "image/png": "[encoded data removed]",
            "text/plain": [
              "<Figure size 432x288 with 1 Axes>"
            ]
          },
          "metadata": {
            "tags": [],
            "needs_background": "light"
          }
        }
      ]
    }
  ]
}